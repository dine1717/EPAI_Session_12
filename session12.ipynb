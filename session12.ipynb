{
 "metadata": {
  "language_info": {
   "codemirror_mode": {
    "name": "ipython",
    "version": 3
   },
   "file_extension": ".py",
   "mimetype": "text/x-python",
   "name": "python",
   "nbconvert_exporter": "python",
   "pygments_lexer": "ipython3",
   "version": "3.8.3"
  },
  "orig_nbformat": 2,
  "kernelspec": {
   "name": "python3",
   "display_name": "Python 3.8.3 64-bit ('base': conda)",
   "metadata": {
    "interpreter": {
     "hash": "7798fa333b9d4b8bcd5d88812bb82ea248dcae56209490eced67e5589c006e54"
    }
   }
  }
 },
 "nbformat": 4,
 "nbformat_minor": 2,
 "cells": [
  {
   "cell_type": "code",
   "execution_count": 17,
   "metadata": {},
   "outputs": [],
   "source": [
    "import math\n",
    "\n",
    "\"\"\"Regular Polygon class\"\"\"\n",
    "class RegularPoly:\n",
    "    \"\"\"Class to create a regular polygon\"\"\"\n",
    "    def __init__(self, vert_count, radius):\n",
    "        \"\"\"Initialize the RegulaPoly class attributes\"\"\"\n",
    "\n",
    "        self.vert_count = vert_count # Number of vertices of polygon\n",
    "        self.radius     = radius # Circumradius\n",
    "        self.interior_angle_l = None \n",
    "        self.edge_length_l = None\n",
    "        self.apothem_l = None \n",
    "        self.area_l = None \n",
    "        self.perimeter_l = None \n",
    "\n",
    "    @property\n",
    "    def vert_count(self):\n",
    "        \"\"\"Get count of vertices\"\"\"\n",
    "        return self._vert_count\n",
    "\n",
    "    @vert_count.setter\n",
    "    def vert_count(self, vert_count):\n",
    "        \"\"\"Set the number of vertices of polygon\"\"\"\n",
    "        if not isinstance(vert_count, int):\n",
    "            raise TypeError(f'Number of vertices should be of type integer')\n",
    "        if vert_count < 3:\n",
    "            raise ValueError(f'Number of vertices should be greater than or equal to 3')\n",
    "\n",
    "        self._vert_count = vert_count\n",
    "\n",
    "    @property\n",
    "    def radius(self):\n",
    "        \"\"\"Get circumradius\"\"\"\n",
    "        return self._radius\n",
    "\n",
    "    @radius.setter\n",
    "    def radius(self, radius):\n",
    "        \"\"\"Set the circumradius of polygon\"\"\"\n",
    "        if not isinstance(radius, int):\n",
    "            raise TypeError(f'Radius should be of type integer')\n",
    "        if radius < 0:\n",
    "            raise ValueError(f'Radius should be greater than 0')\n",
    "\n",
    "        self._radius = radius\n",
    "\n",
    "    @property\n",
    "    def edge_count(self):\n",
    "        \"\"\"Get edge count\"\"\"\n",
    "        return(self.vert_count)\n",
    "\n",
    "    @property\n",
    "    def interior_angle(self):\n",
    "        \"\"\"Get interior angle value\"\"\"\n",
    "        if self.interior_angle_l is not None:\n",
    "            return self.interior_angle_l\n",
    "        else:\n",
    "            self.interior_angle_l =  ((self.vert_count - 2)*180)/math.pi\n",
    "            return self.interior_angle_l\n",
    "\n",
    "    @property\n",
    "    def edge_length(self):\n",
    "        \"\"\"Get edge length value\"\"\"\n",
    "        if self.edge_length_l is not None:\n",
    "            return self.edge_length_l\n",
    "        else:\n",
    "            self.edge_length_l = (2 * self.radius * math.sin(math.pi / self.vert_count))\n",
    "            return self.edge_length_l\n",
    "\n",
    "    @property\n",
    "    def apothem(self):\n",
    "        \"\"\"Get apothem value\"\"\"\n",
    "        if self.apothem_l is not None:\n",
    "            return self.apothem_l\n",
    "        else:\n",
    "            self.apothem_l =  (self.radius * math.cos(math.pi / self.vert_count))\n",
    "            return self.apothem_l\n",
    "\n",
    "    @property\n",
    "    def area(self):\n",
    "        \"\"\"Get area value\"\"\"\n",
    "        if self.area_l is not None:\n",
    "            return self.area_l\n",
    "        else:\n",
    "            self.area_l =  (1 / 2 * (self.vert_count * self.edge_length * self.apothem))\n",
    "            return self.area_l\n",
    "\n",
    "    @property\n",
    "    def perimeter(self):\n",
    "        \"\"\"Get perimeter value\"\"\"\n",
    "        if self.perimeter_l is not None:\n",
    "            return self.perimeter_l\n",
    "        else:\n",
    "            self.perimeter_l =  (self.vert_count * self.edge_length)\n",
    "\n",
    "            return self.perimeter_l\n",
    "\n",
    "    def __repr__(self):\n",
    "        \"\"\" Return string for RegularPoly\"\"\"\n",
    "        return (f'RegularPoly({self.vert_count}, {self.radius})')\n",
    "\n",
    "\n",
    "    def __eq__(self,other):\n",
    "        \"\"\" Check for the equality of RegularPoly\"\"\"\n",
    "        if isinstance(other, RegularPoly):\n",
    "            return(self.vert_count == other.vert_count and self.radius == other.radius)\n",
    "        else:\n",
    "            raise NotImplementedError('Incorrect data type')\n",
    "\n",
    "    def __gt__(self,other):\n",
    "        \"\"\" Check for the greater than ineqaulity for RegularPoly\"\"\"\n",
    "        if isinstance(other, RegularPoly):\n",
    "            return(self.vert_count > other.vert_count)\n",
    "        else:\n",
    "            raise NotImplementedError('Incorrect data type')"
   ]
  },
  {
   "cell_type": "code",
   "execution_count": 11,
   "metadata": {},
   "outputs": [],
   "source": [
    "pol = RegularPoly(3, 3)\n"
   ]
  },
  {
   "cell_type": "code",
   "execution_count": 12,
   "metadata": {},
   "outputs": [
    {
     "output_type": "stream",
     "name": "stdout",
     "text": [
      "RegularPoly(3, 3)\n"
     ]
    }
   ],
   "source": [
    "print(pol)"
   ]
  },
  {
   "cell_type": "code",
   "execution_count": 13,
   "metadata": {},
   "outputs": [
    {
     "output_type": "stream",
     "name": "stdout",
     "text": [
      "True\n"
     ]
    }
   ],
   "source": [
    "\n",
    "pol1 = RegularPoly(3, 3)\n",
    "pol2 = RegularPoly(3, 3)\n",
    "print(pol1 == pol2)"
   ]
  },
  {
   "cell_type": "code",
   "execution_count": 18,
   "metadata": {},
   "outputs": [
    {
     "output_type": "stream",
     "name": "stdout",
     "text": [
      "3\n3\n57.29577951308232\n5.196152422706632\n1.5000000000000004\n11.691342951089926\n15.588457268119896\n"
     ]
    }
   ],
   "source": [
    "\n",
    "pol = RegularPoly(3, 3)\n",
    "for prop in ['vert_count', 'radius', 'interior_angle', 'edge_length', 'apothem', 'area', 'perimeter']:\n",
    "    print(getattr(pol, prop))"
   ]
  },
  {
   "cell_type": "code",
   "execution_count": 22,
   "metadata": {},
   "outputs": [],
   "source": [
    "def test_class():\n",
    "    pol1 = RegularPoly(3, 3)\n",
    "    pol2 = RegularPoly(3, 3)\n",
    "    pol3 = RegularPoly(4, 3)\n",
    "    assert str(pol1), \"Your repr function is missing\"\n",
    "    assert pol1 == pol2, 'Your equality function is bogus'\n",
    "    assert pol2 != pol3, 'Your equality function is bogus'\n",
    "    assert pol2 < pol3, 'Your greater function is bogus'\n",
    "    assert (pol2 > pol3) == False, 'Your greater function is bogus'\n",
    "    for prop in ['vert_count', 'radius', 'interior_angle', 'edge_length', 'apothem', 'area', 'perimeter']:\n",
    "        assert getattr(\n",
    "            pol1, prop), 'At least one of the required attributes is missing!'"
   ]
  },
  {
   "cell_type": "code",
   "execution_count": 23,
   "metadata": {},
   "outputs": [],
   "source": [
    "test_class()"
   ]
  },
  {
   "cell_type": "code",
   "execution_count": 41,
   "metadata": {},
   "outputs": [],
   "source": [
    "from collections import namedtuple\n",
    "import session_12 as rp\n"
   ]
  },
  {
   "cell_type": "code",
   "execution_count": 57,
   "metadata": {},
   "outputs": [],
   "source": [
    "\"\"\"Regular Polygon Sequence class\"\"\"\n",
    "class RegularPolySeq:\n",
    "    \"\"\"Class to create a sequence of regular polygon\"\"\"\n",
    "\n",
    "    def __init__(self, vert_count, radius):\n",
    "        \"\"\"Initialize the RegulaPoly class attributes\"\"\"\n",
    "\n",
    "        self.vert_count = vert_count # Number of vertices of polygon\n",
    "        self.radius     = radius # Circumradius\n",
    "        self.polygons = [RegularPoly(i, radius) for i in range(3, vert_count+1)]\n",
    "\n",
    "\n",
    "    @property\n",
    "    def vert_count(self):\n",
    "        \"\"\"Get count of vertices\"\"\"\n",
    "        return self._vert_count\n",
    "\n",
    "    @vert_count.setter\n",
    "    def vert_count(self, vert_count):\n",
    "        \"\"\"Set the number of vertices of polygon\"\"\"\n",
    "        if not isinstance(vert_count, int):\n",
    "            raise TypeError(f'Number of vertices should be of type integer')\n",
    "        if vert_count < 3:\n",
    "            raise ValueError(f'Number of vertices should be greater than or equal to 3')\n",
    "\n",
    "        self._vert_count = vert_count\n",
    "\n",
    "    @property\n",
    "    def radius(self):\n",
    "        \"\"\"Get circumradius\"\"\"\n",
    "        return self._radius\n",
    "\n",
    "    @radius.setter\n",
    "    def radius(self, radius):\n",
    "        \"\"\"Set the circumradius of polygon\"\"\"\n",
    "        if not isinstance(radius, int):\n",
    "            raise TypeError(f'Radius should be of type integer')\n",
    "        if radius < 0:\n",
    "            raise ValueError(f'Radius should be greater than 0')\n",
    "\n",
    "        self._radius = radius\n",
    "\n",
    "    \n",
    "    def __repr__(self) -> str:\n",
    "        '''\n",
    "        How the output appears when the object is printed.\n",
    "        '''\n",
    "        return (f'This Polygon Sequence contains polygons with the following properties:' + f'\\n'\n",
    "                f'\\t' + f'Sides: From 3 to {self.vert_count},' + f'\\n'\n",
    "                f'\\t' + f'circumradius = {self.radius},')\n",
    "\n",
    "    @property\n",
    "    def max_effic(self):\n",
    "        sorted_polygons = sorted(self.polygons, \n",
    "                                 key=lambda p: p.area/p.perimeter,\n",
    "                                reverse=True)\n",
    "        return sorted_polygons[0]\n",
    "\n",
    "    def __iter__(self):\n",
    "\n",
    "        '''\n",
    "        This method returns the iterator sub-class\n",
    "        '''\n",
    "        return self.PolySeqIter(self.vert_count, self.radius)\n",
    "\n",
    "\n",
    "\n",
    "\n",
    "    class PolySeqIter:\n",
    "        '''\n",
    "        This is an iterator implemented as a sub-class\n",
    "        '''\n",
    "\n",
    "        def __init__(self, vert_count, radius):\n",
    "            self.vert_count = vert_count\n",
    "            self.radius = radius\n",
    "            self.i = 3\n",
    "\n",
    "        def __len__(self):\n",
    "            return self.max_edges - 2\n",
    "\n",
    "        def __iter__(self):\n",
    "            return self\n",
    "\n",
    "        def __next__(self):\n",
    "            if self.i > self.vert_count:\n",
    "                raise StopIteration\n",
    "            else:\n",
    "                pol = RegularPoly(self.i, self.radius)\n",
    "                self.i += 1\n",
    "                return pol"
   ]
  },
  {
   "cell_type": "code",
   "execution_count": 62,
   "metadata": {},
   "outputs": [
    {
     "output_type": "stream",
     "name": "stdout",
     "text": [
      "This Polygon Sequence contains polygons with the following properties:\n\tSides: From 3 to 25,\n\tcircumradius = 15,\n"
     ]
    }
   ],
   "source": [
    "print(polseq)"
   ]
  },
  {
   "cell_type": "code",
   "execution_count": 64,
   "metadata": {},
   "outputs": [
    {
     "output_type": "stream",
     "name": "stdout",
     "text": [
      "RegularPoly(25, 15)\n"
     ]
    }
   ],
   "source": [
    "print(getattr(polseq, 'max_effic'))\n"
   ]
  },
  {
   "cell_type": "code",
   "execution_count": 67,
   "metadata": {},
   "outputs": [],
   "source": [
    "def test_seq():\n",
    "    polseq = RegularPolySeq(25, 15)\n",
    "    assert str(polseq), \"Your repr function is missing\"\n",
    "    assert getattr(\n",
    "        polseq, 'max_effic'), 'The maximum efficiency property is missing!'"
   ]
  },
  {
   "cell_type": "code",
   "execution_count": 68,
   "metadata": {},
   "outputs": [],
   "source": [
    "test_seq()"
   ]
  },
  {
   "cell_type": "code",
   "execution_count": 70,
   "metadata": {},
   "outputs": [],
   "source": [
    "def test_seq_iterable():\n",
    "    '''\n",
    "    Check whether the Polygon Sequence is an iterator or not\n",
    "    '''\n",
    "    polseq = RegularPolySeq(3, 3)\n",
    "    assert ('__next__' in dir(polseq)) == False, \"Your Sequence is an iterator!\"\n",
    "    assert '__iter__' in dir(polseq), \"Your Sequence is not an iterable\"\n",
    "    assert '__next__' in dir(polseq.PolySeqIter), \"Your Sequence Iterator is not an iterator\"\n",
    "    assert '__iter__' in dir(polseq.PolySeqIter), \"Your Sequence Iterator is not an iterator\""
   ]
  },
  {
   "cell_type": "code",
   "execution_count": 71,
   "metadata": {},
   "outputs": [],
   "source": [
    "test_seq_iterable()"
   ]
  },
  {
   "cell_type": "code",
   "execution_count": null,
   "metadata": {},
   "outputs": [],
   "source": []
  }
 ]
}